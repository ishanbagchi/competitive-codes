{
 "metadata": {
  "language_info": {
   "codemirror_mode": {
    "name": "ipython",
    "version": 3
   },
   "file_extension": ".py",
   "mimetype": "text/x-python",
   "name": "python",
   "nbconvert_exporter": "python",
   "pygments_lexer": "ipython3",
   "version": "3.9.0-final"
  },
  "orig_nbformat": 2,
  "kernelspec": {
   "name": "python3",
   "display_name": "Python 3.9.0 64-bit",
   "metadata": {
    "interpreter": {
     "hash": "63fd5069d213b44bf678585dea6b12cceca9941eaf7f819626cde1f2670de90d"
    }
   }
  }
 },
 "nbformat": 4,
 "nbformat_minor": 2,
 "cells": [
  {
   "source": [
    "# Class & Inheritance"
   ],
   "cell_type": "markdown",
   "metadata": {}
  },
  {
   "cell_type": "code",
   "execution_count": null,
   "metadata": {},
   "outputs": [],
   "source": [
    "class Student:\n",
    "    def __init__(self, Name, Roll):\n",
    "        self.name = Name\n",
    "        self.roll = Roll\n",
    "\n",
    "    def printName(self):\n",
    "        print(self.name)\n",
    "\n",
    "Student1 = Student(\"Ishan\", 9)\n",
    "Student1.printName()\n",
    "\n"
   ]
  },
  {
   "cell_type": "code",
   "execution_count": null,
   "metadata": {},
   "outputs": [],
   "source": [
    "class Student:\n",
    "    def __init__(self, Name, Roll):\n",
    "        self.name = Name\n",
    "        self.roll = Roll\n",
    "\n",
    "S1 = Student(\"Ishan\", 9)\n",
    "del S1.name\n",
    "# print(S1.name)\n",
    "\n",
    "del S1\n",
    "# print(S1.roll)"
   ]
  },
  {
   "cell_type": "code",
   "execution_count": null,
   "metadata": {},
   "outputs": [],
   "source": [
    "class A:\n",
    "    pass # avoids error"
   ]
  },
  {
   "cell_type": "code",
   "execution_count": null,
   "metadata": {},
   "outputs": [],
   "source": [
    "class College:\n",
    "    def __init__(self, NameOfDepartment):\n",
    "        self.nameOfDepartment = NameOfDepartment\n",
    "\n",
    "# inheritance\n",
    "class Department(College):\n",
    "    def __init__(self, NameOfDepartment, Strength):\n",
    "        # College.__init__(self, NameOfDepartment) # 1st method\n",
    "        super().__init__(NameOfDepartment) # 2nd method\n",
    "        self.strength = Strength\n",
    "\n",
    "dept = Department(\"CSE\", 104)\n",
    "print(dept.nameOfDepartment)\n",
    "print(dept.strength)\n"
   ]
  },
  {
   "cell_type": "code",
   "execution_count": null,
   "metadata": {},
   "outputs": [],
   "source": [
    "class Student:\n",
    "    def __init__(self, Name, Roll):\n",
    "        self.__name = Name\n",
    "        self.roll = Roll\n",
    "\n",
    "    def printName(self):\n",
    "        print(self.__name)\n",
    "\n",
    "# __ makes the name encapsulated\n",
    "# we cannot access the data from outside\n",
    "# so we have to use printName()\n",
    "\n",
    "Student1 = Student('Ishan', 9)\n",
    "Student1.printName()"
   ]
  },
  {
   "cell_type": "code",
   "execution_count": null,
   "metadata": {},
   "outputs": [],
   "source": [
    "from abc import ABC, abstractmethod"
   ]
  },
  {
   "cell_type": "code",
   "execution_count": null,
   "metadata": {},
   "outputs": [],
   "source": [
    "class Animals:\n",
    "    @abstractmethod\n",
    "    def sound(self):\n",
    "        pass\n",
    "\n",
    "class Birds(Animals):\n",
    "    def sound(self):\n",
    "        print(\"Birds Chirp!\")\n",
    "\n",
    "Bird1 = Birds()\n",
    "Bird1.sound()"
   ]
  }
 ]
}