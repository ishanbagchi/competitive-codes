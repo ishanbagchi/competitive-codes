{
 "metadata": {
  "language_info": {
   "codemirror_mode": {
    "name": "ipython",
    "version": 3
   },
   "file_extension": ".py",
   "mimetype": "text/x-python",
   "name": "python",
   "nbconvert_exporter": "python",
   "pygments_lexer": "ipython3",
   "version": "3.9.0-final"
  },
  "orig_nbformat": 2,
  "kernelspec": {
   "name": "python3",
   "display_name": "Python 3.9.0 64-bit",
   "metadata": {
    "interpreter": {
     "hash": "63fd5069d213b44bf678585dea6b12cceca9941eaf7f819626cde1f2670de90d"
    }
   }
  }
 },
 "nbformat": 4,
 "nbformat_minor": 2,
 "cells": [
  {
   "source": [
    "# Fizz Buzz is a very simple programming task \n",
    "\n",
    "### asked in software developer job interviews.\n",
    "\n",
    "Write a program that prints the numbers from 1 to x(user given) and for multiples of ‘3’ print “Fizz” instead of the number, for the multiples of ‘5’ print “Buzz” and for multiples of ‘3 and 5’ both print “FizzBuzz”."
   ],
   "cell_type": "markdown",
   "metadata": {}
  },
  {
   "cell_type": "code",
   "execution_count": null,
   "metadata": {},
   "outputs": [],
   "source": [
    "# FizzBuzz\n",
    "\n",
    "number = int(input(\"Enter the range: from 1 to : \"))    # takes the number from user\n",
    "\n",
    "for i in range(1, number+1):\n",
    "# a \"for loop\" which executes from 1 and ends at number given by => range(1,number+1) = [1, number+1)\n",
    "    if (i%15==0):    # for checking the number divisible by both 3 and 5\n",
    "        print(\"FizzBuzz\")\n",
    "    elif(i%3==0):    # for checking the number divisible by 3\n",
    "        print(\"Fizz\")\n",
    "    elif(i%5==0):    # for checking the number divisible by 5\n",
    "        print(\"Buzz\")\n",
    "    else:        # when the number is neither divisible by 3 nor 5\n",
    "        print(i)"
   ]
  },
  {
   "source": [
    "## Add sum of digits"
   ],
   "cell_type": "markdown",
   "metadata": {}
  },
  {
   "cell_type": "code",
   "execution_count": null,
   "metadata": {},
   "outputs": [],
   "source": [
    "\n",
    "# program that returns the sum of digits of a number\n",
    "\n",
    "number = int(input(\"Enter the number: \"))    # takes the number from user\n",
    "\n",
    "temp=number    # stores the number in a new variable in order to manipulate \n",
    "               # that new variable without disturbing the original variable\n",
    "\n",
    "summ = 0       # default value of summ = 0\n",
    "    \n",
    "while(temp!=0):\n",
    "    remainder = temp%10  # gets the ones place digit\n",
    "    summ += remainder    # adds the digit into existing sum\n",
    "    temp//=10            # to get number excluding the ones place\n",
    "    \n",
    "print(f'Sum of digits of {number} is {summ}.')"
   ]
  },
  {
   "cell_type": "code",
   "execution_count": null,
   "metadata": {},
   "outputs": [],
   "source": []
  }
 ]
}